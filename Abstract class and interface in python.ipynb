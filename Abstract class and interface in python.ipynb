{
 "metadata": {
  "language_info": {
   "codemirror_mode": {
    "name": "ipython",
    "version": 3
   },
   "file_extension": ".py",
   "mimetype": "text/x-python",
   "name": "python",
   "nbconvert_exporter": "python",
   "pygments_lexer": "ipython3",
   "version": "3.8.3"
  },
  "orig_nbformat": 2,
  "kernelspec": {
   "name": "python383jvsc74a57bd04959e9b4f25b4c95f653ccaa3475948476cdf1a2f205983bd1d37b42ba7c6753",
   "display_name": "Python 3.8.3 64-bit ('base': conda)"
  }
 },
 "nbformat": 4,
 "nbformat_minor": 2,
 "cells": [
  {
   "cell_type": "code",
   "execution_count": 1,
   "metadata": {},
   "outputs": [
    {
     "output_type": "stream",
     "name": "stdout",
     "text": [
      "Square value is  2\nSquare value is  5\nSquare value is  8\n"
     ]
    }
   ],
   "source": [
    "class MyClass:\n",
    "    def calculate(self,x):\n",
    "        print(\"Square value is \",x)\n",
    "\n",
    "obj1 = MyClass()\n",
    "obj1.calculate(2)\n",
    "\n",
    "obj2 = MyClass()\n",
    "obj2.calculate(5)\n",
    "\n",
    "obj3 = MyClass()\n",
    "obj3.calculate(8)"
   ]
  },
  {
   "source": [
    "An abstract method is a method whose action is generally redefined in subclass as per requirements><br>\n",
    "they generally have no body since it will be defined in a sub class and we use decorator<br>\n",
    "PVM cannot create memory as it dosen't know how much memory to allocate."
   ],
   "cell_type": "markdown",
   "metadata": {}
  },
  {
   "cell_type": "code",
   "execution_count": null,
   "metadata": {},
   "outputs": [],
   "source": [
    "from abc import ABC,abstractmethod\n",
    "class MyClass(ABC):             #ABC Abstract base class\n",
    "    @abstractmethod\n",
    "    def calculate(self,x):\n",
    "        pass\n",
    "#now we declare a sub classof myclass\n",
    "class Sub1(MyClass):\n",
    "    def calculate(self,x):\n",
    "        print(\"Square value is\",x*x)\n",
    "\n",
    "# anather subclass\n",
    "import math\n",
    "class Sub2(MyClass):\n",
    "    def calculate(self,x):\n",
    "        print(\"Square root is\",math.sqrt(x))\n",
    "\n",
    "#one more\n",
    "class Sub3(MyClass):\n",
    "    def calculate(self,x):\n",
    "        print(\"Cube value is\",x*x*x)\n",
    "\n",
    "obj1 = Sub1()\n",
    "obj1.calculate(5)\n",
    "obj2 = Sub2()\n",
    "obj2.calculate(100)\n",
    "obj3 = Sub3()\n",
    "obj3.calculate(3)\n"
   ]
  },
  {
   "source": [
    "We are actually using the concept of polymorphism in python but it in abstract classes<br>\n",
    "let us see one more example"
   ],
   "cell_type": "markdown",
   "metadata": {}
  },
  {
   "cell_type": "code",
   "execution_count": null,
   "metadata": {},
   "outputs": [],
   "source": [
    "from abc import *\n",
    "class Car(ABC):\n",
    "    def __init__(self,regno):\n",
    "        self.regno = regno\n",
    "    def openTank(self):\n",
    "        print('Fill the fuel into the Tank')\n",
    "        print('for the car with regno', self.regno)\n",
    "    \n",
    "    @abstractmethod\n",
    "    def steering(self):\n",
    "        pass\n",
    "\n",
    "    @abstractmethod\n",
    "    def braking(self):\n",
    "        pass"
   ]
  },
  {
   "cell_type": "code",
   "execution_count": null,
   "metadata": {},
   "outputs": [],
   "source": [
    "class Audi(Car):\n",
    "    def steering(self):\n",
    "        print(\"Audi have power steering\")\n",
    "        print(\"Drive the car\")\n",
    "    def braking(self):\n",
    "        print(\"Audi has hydrolic brakes\")\n",
    "    "
   ]
  },
  {
   "cell_type": "code",
   "execution_count": null,
   "metadata": {},
   "outputs": [],
   "source": [
    "TT = Audi(1001)\n",
    "TT.openTank()\n",
    "TT.steering()\n",
    "TT.braking()"
   ]
  },
  {
   "cell_type": "code",
   "execution_count": null,
   "metadata": {},
   "outputs": [],
   "source": [
    "class Tesla(Car):\n",
    "    def steering(self):\n",
    "        print(\"Tesla have power steering\")\n",
    "        print(\"Drive the car or car will drive it self\")\n",
    "    def braking(self):\n",
    "        print(\"Tesla has hydrolic brakes\")"
   ]
  },
  {
   "cell_type": "code",
   "execution_count": null,
   "metadata": {},
   "outputs": [],
   "source": [
    "S1 = Tesla(5486)\n",
    "S1.openTank()\n",
    "S1.steering()\n",
    "S1.braking()"
   ]
  },
  {
   "cell_type": "code",
   "execution_count": null,
   "metadata": {},
   "outputs": [],
   "source": []
  },
  {
   "cell_type": "code",
   "execution_count": null,
   "metadata": {},
   "outputs": [],
   "source": []
  },
  {
   "source": [
    "## Interfaces in python\n",
    "An abstract class but it only has abstract methods no other methods/funtions\n",
    "<br>\n",
    "It provides way more flexiblity than inheriting a full class, eg an international credit card"
   ],
   "cell_type": "markdown",
   "metadata": {}
  },
  {
   "cell_type": "code",
   "execution_count": null,
   "metadata": {},
   "outputs": [],
   "source": [
    "from abc import *\n",
    "class MyClass(ABC):\n",
    "    @abstractmethod\n",
    "    def connect(self):\n",
    "        pass\n",
    "    @abstractmethod\n",
    "    def connect(self):\n",
    "        pass"
   ]
  },
  {
   "cell_type": "code",
   "execution_count": null,
   "metadata": {},
   "outputs": [],
   "source": [
    "class Oracle(MyClass):\n",
    "    def connect(self):\n",
    "        # some network cmds to connect to oracle\n",
    "        print(\"Connecting to Oracle DB\")\n",
    "    def disconnect(self):\n",
    "        # some network cmds to disconnect to oracle\n",
    "        print(\"Disconnected to Oracle DB\")\n",
    "\n",
    "class SQL(MyClass):\n",
    "    def connect(self):\n",
    "        # some network cmds to connect to oracle\n",
    "        print(\"Connecting to SQL DB\")\n",
    "    def disconnect(self):\n",
    "        # some network cmds to disconnect to oracle\n",
    "        print(\"Disconnected to SQL DB\")"
   ]
  },
  {
   "cell_type": "code",
   "execution_count": null,
   "metadata": {},
   "outputs": [],
   "source": [
    "class Database:\n",
    "    str = input(\"Enter the name of Database: \")\n",
    "    classname = globals()[str]\n",
    "    x = classname()\n",
    "    x.connect()\n",
    "    x.disconnect()"
   ]
  },
  {
   "cell_type": "code",
   "execution_count": null,
   "metadata": {},
   "outputs": [],
   "source": []
  }
 ]
}