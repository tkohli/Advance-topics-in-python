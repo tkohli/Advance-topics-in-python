{
 "metadata": {
  "language_info": {
   "codemirror_mode": {
    "name": "ipython",
    "version": 3
   },
   "file_extension": ".py",
   "mimetype": "text/x-python",
   "name": "python",
   "nbconvert_exporter": "python",
   "pygments_lexer": "ipython3",
   "version": "3.8.3"
  },
  "orig_nbformat": 2,
  "kernelspec": {
   "name": "python383jvsc74a57bd04959e9b4f25b4c95f653ccaa3475948476cdf1a2f205983bd1d37b42ba7c6753",
   "display_name": "Python 3.8.3 64-bit ('base': conda)"
  }
 },
 "nbformat": 4,
 "nbformat_minor": 2,
 "cells": [
  {
   "source": [
    "# File Handling "
   ],
   "cell_type": "markdown",
   "metadata": {}
  },
  {
   "cell_type": "code",
   "execution_count": null,
   "metadata": {},
   "outputs": [],
   "source": [
    "# file handler =  open(\"File name\", \"Open Mode\", \"buffering\")\n",
    "\"\"\" Open modes  w, r, a, w+, r+, a+, x\"\"\"\n"
   ]
  },
  {
   "cell_type": "code",
   "execution_count": 5,
   "metadata": {},
   "outputs": [],
   "source": [
    "f = open(\"myfile.txt\",\"w\")\n",
    "str = \"Hey this is my testing file\"\n",
    "f.write(str)\n",
    "f.close()"
   ]
  },
  {
   "cell_type": "code",
   "execution_count": 4,
   "metadata": {},
   "outputs": [
    {
     "output_type": "stream",
     "name": "stdout",
     "text": [
      "Hey this is my testing file\n"
     ]
    }
   ],
   "source": [
    "f= open(\"Test001.txt\",\"r\")\n",
    "str = f.read()\n",
    "print(str)\n",
    "f.close()"
   ]
  },
  {
   "cell_type": "code",
   "execution_count": 6,
   "metadata": {},
   "outputs": [
    {
     "output_type": "stream",
     "name": "stdout",
     "text": [
      "Enter text and to exit enter @\n",
      "The file has \n",
      "Hey this is my testing filehey I am Tanishka\n",
      "i am making a YT video\n",
      "\n"
     ]
    }
   ],
   "source": [
    "f = open('myfile.txt','a+')\n",
    "print(\"Enter text and to exit enter @\")\n",
    "while str != '@':\n",
    "    str = input()\n",
    "    if str != '@':\n",
    "        f.write(str+'\\n')\n",
    "f.seek(0,0)\n",
    "print('The file has ')\n",
    "str = f.read()\n",
    "print(str)\n",
    "\n",
    "\n",
    "f.close()"
   ]
  },
  {
   "cell_type": "code",
   "execution_count": 8,
   "metadata": {},
   "outputs": [
    {
     "output_type": "stream",
     "name": "stdout",
     "text": [
      "File components are \nHey this is my testing filehey I am Tanishka\ni am making a YT video\n\n"
     ]
    },
    {
     "output_type": "execute_result",
     "data": {
      "text/plain": [
       "<function TextIOWrapper.close()>"
      ]
     },
     "metadata": {},
     "execution_count": 8
    }
   ],
   "source": [
    "#checking file exists or not\n",
    "import os,sys\n",
    "\n",
    "fname = input(\"Enter fiele name: \")\n",
    "if os.path.isfile(fname):\n",
    "    f = open(fname,'r')\n",
    "else:\n",
    "    print(fname+\" does not exists\")\n",
    "    sys.exit()\n",
    "\n",
    "print(\"File components are \")\n",
    "str = f.read()\n",
    "print(str)\n",
    "f.close"
   ]
  },
  {
   "cell_type": "code",
   "execution_count": null,
   "metadata": {},
   "outputs": [],
   "source": [
    "f.close"
   ]
  },
  {
   "cell_type": "code",
   "execution_count": null,
   "metadata": {},
   "outputs": [],
   "source": [
    "#with stmt no closing\n",
    "with open('test.txt','w') as f:\n",
    "    f.write(\"I am a File\\n\")\n",
    "    f.write('Python is good\\n')"
   ]
  },
  {
   "cell_type": "code",
   "execution_count": null,
   "metadata": {},
   "outputs": [],
   "source": [
    "with open('Test.txt','r') as f:\n",
    "    for line in f:\n",
    "        print(line)"
   ]
  },
  {
   "cell_type": "code",
   "execution_count": null,
   "metadata": {},
   "outputs": [],
   "source": [
    "#pickle in python or serialization it coverts it into a byte stream done using dump()\n",
    "\n",
    "class Emp:\n",
    "    def __init__(self,id,name,sal):\n",
    "        self.id = id\n",
    "        self.name = name\n",
    "        self.sal = sal\n",
    "\n",
    "    def display(self):\n",
    "        print(\"{:5d} {:20s} {:10.2f}\".format(self.id,self.name,self.sal))"
   ]
  },
  {
   "cell_type": "code",
   "execution_count": 14,
   "metadata": {},
   "outputs": [],
   "source": [
    "import pickle\n",
    "\n",
    "f = open(\"emp.dat\",'wb')\n",
    "n = int(input(\"How many employees?\"))\n",
    "\n",
    "for i in range(n):\n",
    "\n",
    "    id = int(input(\"Enter ID: \"))\n",
    "    name = (input(\"Enter name: \"))\n",
    "    sal = float(input(\"Enter salary: \"))\n",
    "\n",
    "    e = Emp(id,name,sal)\n",
    "    \n",
    "\n",
    "f.close()"
   ]
  },
  {
   "cell_type": "code",
   "execution_count": null,
   "metadata": {},
   "outputs": [],
   "source": [
    "f = open('emp.dat','rb')\n",
    "print('Employees details: ')\n",
    "while True:\n",
    "    try:\n",
    "        obj = pickle.load(f)\n",
    "        obj.display()\n",
    "    except EOFError:\n",
    "        print(\"End of file reached\")\n",
    "        break\n",
    "f.close()"
   ]
  },
  {
   "cell_type": "code",
   "execution_count": null,
   "metadata": {},
   "outputs": [],
   "source": [
    "# seek and tell methods\n",
    "\n",
    "with open('intro.txt','r+b') as f:\n",
    "    f.write(b'Tech with Tanishka')#binary string\n",
    "    print(f.tell())\n",
    "    print(f.seek(3))\n",
    "    print(f.read(2))\n",
    "    # print(f.tell())\n",
    "    # print(f.seek(-6,2))\n",
    "    # print(f.tell())"
   ]
  },
  {
   "cell_type": "code",
   "execution_count": null,
   "metadata": {},
   "outputs": [],
   "source": []
  },
  {
   "cell_type": "code",
   "execution_count": null,
   "metadata": {},
   "outputs": [],
   "source": []
  }
 ]
}