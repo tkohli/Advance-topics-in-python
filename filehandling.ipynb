{
 "metadata": {
  "language_info": {
   "codemirror_mode": {
    "name": "ipython",
    "version": 3
   },
   "file_extension": ".py",
   "mimetype": "text/x-python",
   "name": "python",
   "nbconvert_exporter": "python",
   "pygments_lexer": "ipython3",
   "version": "3.8.5"
  },
  "orig_nbformat": 2,
  "kernelspec": {
   "name": "python3",
   "display_name": "Python 3.8.5 32-bit"
  },
  "interpreter": {
   "hash": "a39e6fb8f45a4c7089f36e97f2885cce2331ead074b20d8b2631fa0c680d5a17"
  }
 },
 "nbformat": 4,
 "nbformat_minor": 2,
 "cells": [
  {
   "source": [
    "# File Handling "
   ],
   "cell_type": "markdown",
   "metadata": {}
  },
  {
   "cell_type": "code",
   "execution_count": null,
   "metadata": {},
   "outputs": [],
   "source": [
    "# file handler =  open(\"File name\", \"Open Mode\", \"buffering\")\n",
    "\"\"\" Open modes  w, r, a, w+, r+, a+, x\"\"\"\n"
   ]
  },
  {
   "cell_type": "code",
   "execution_count": 1,
   "metadata": {},
   "outputs": [],
   "source": [
    "f = open(\"myfile.txt\",\"w\")\n",
    "str = \"Hey this is my testing file\"\n",
    "f.write(str)\n",
    "f.close()"
   ]
  },
  {
   "cell_type": "code",
   "execution_count": null,
   "metadata": {},
   "outputs": [],
   "source": [
    "f= open(\"myfile.txt\",\"r\")\n",
    "str = f.read()\n",
    "print(str)\n",
    "f.close()"
   ]
  },
  {
   "cell_type": "code",
   "execution_count": null,
   "metadata": {},
   "outputs": [],
   "source": [
    "f = open('myfile.txt','a+')\n",
    "print(\"Enter text and to exit enter @\")\n",
    "while str != '@':\n",
    "    str = input()\n",
    "    if str != '@':\n",
    "        f.write(str+'\\n')\n",
    "f.seek(0,0)\n",
    "print('The file has ')\n",
    "str = f.read()\n",
    "print(str)\n",
    "\n",
    "\n",
    "f.close()"
   ]
  },
  {
   "cell_type": "code",
   "execution_count": null,
   "metadata": {},
   "outputs": [],
   "source": [
    "#checking file exists or not\n",
    "import os,sys\n",
    "\n",
    "fname = input(\"Enter file name: \")\n",
    "if os.path.isfile(fname):\n",
    "    f = open(fname,'r')\n",
    "else:\n",
    "    print(fname+\" does not exists\")\n",
    "    sys.exit()\n",
    "\n",
    "print(\"File components are \")\n",
    "str = f.read()\n",
    "print(str)\n",
    "f.close()"
   ]
  },
  {
   "cell_type": "code",
   "execution_count": null,
   "metadata": {},
   "outputs": [],
   "source": [
    "f.close"
   ]
  },
  {
   "cell_type": "code",
   "execution_count": null,
   "metadata": {},
   "outputs": [],
   "source": [
    "#with stmt no closing\n",
    "with open('test.txt','w') as f:\n",
    "    f.write(\"I am a File\\n\")\n",
    "    f.write('Python is good\\n')"
   ]
  },
  {
   "cell_type": "code",
   "execution_count": null,
   "metadata": {},
   "outputs": [],
   "source": [
    "with open('Test.txt','r') as f:\n",
    "    for line in f:\n",
    "        print(line)"
   ]
  },
  {
   "cell_type": "code",
   "execution_count": null,
   "metadata": {},
   "outputs": [],
   "source": [
    "#pickle in python or serialization it coverts it into a byte stream done using dump()\n",
    "\n",
    "class Emp:\n",
    "    def __init__(self,id,name,sal):\n",
    "        self.id = id\n",
    "        self.name = name\n",
    "        self.sal = sal\n",
    "\n",
    "    def display(self):\n",
    "        print(\"{:5d} {:20s} {:10.2f}\".format(self.id,self.name,self.sal))"
   ]
  },
  {
   "cell_type": "code",
   "execution_count": null,
   "metadata": {},
   "outputs": [],
   "source": [
    "import pickle\n",
    "\n",
    "f = open(\"emp.dat\",'wb')\n",
    "n = int(input(\"How many employees?\"))\n",
    "\n",
    "for i in range(n):\n",
    "\n",
    "    id = int(input(\"Enter ID: \"))\n",
    "    name = (input(\"Enter name: \"))\n",
    "    sal = float(input(\"Enter salary: \"))\n",
    "\n",
    "    e = Emp(id,name,sal)\n",
    "    pickle.dump(e,f)\n",
    "    \n",
    "\n",
    "f.close()"
   ]
  },
  {
   "cell_type": "code",
   "execution_count": null,
   "metadata": {},
   "outputs": [],
   "source": [
    "f = open('emp.dat','rb')\n",
    "print('Employees details: ')\n",
    "while True:\n",
    "    try:\n",
    "        obj = pickle.load(f)\n",
    "        obj.display()\n",
    "    except EOFError:\n",
    "        print(\"End of file reached\")\n",
    "        break\n",
    "f.close()"
   ]
  },
  {
   "cell_type": "code",
   "execution_count": 31,
   "metadata": {},
   "outputs": [
    {
     "output_type": "stream",
     "name": "stdout",
     "text": [
      "3\n3\nb'h with Tanishka'\n12\nb'nishka'\n"
     ]
    }
   ],
   "source": [
    "# seek and tell methods\n",
    "\n",
    "with open('intro.txt','r+b') as f:\n",
    "    f.write(b'Tech with Tanishka')#binary string\n",
    "    \n",
    "    print(f.seek(3))\n",
    "    print(f.tell())\n",
    "    print(f.read())\n",
    "    # print(f.read(15))\n",
    "    # print(f.tell())\n",
    "    print(f.seek(-6,2))\n",
    "    # print(f.tell())\n",
    "    print(f.read())"
   ]
  },
  {
   "cell_type": "code",
   "execution_count": 1,
   "metadata": {},
   "outputs": [
    {
     "output_type": "execute_result",
     "data": {
      "text/plain": [
       "18"
      ]
     },
     "metadata": {},
     "execution_count": 1
    }
   ],
   "source": [
    "len(\"Tech with Tanishka\")"
   ]
  },
  {
   "cell_type": "code",
   "execution_count": 2,
   "metadata": {},
   "outputs": [
    {
     "output_type": "error",
     "ename": "SyntaxError",
     "evalue": "invalid syntax (<ipython-input-2-71f608bf13e4>, line 1)",
     "traceback": [
      "\u001b[1;36m  File \u001b[1;32m\"<ipython-input-2-71f608bf13e4>\"\u001b[1;36m, line \u001b[1;32m1\u001b[0m\n\u001b[1;33m    Tech with Tanishka\u001b[0m\n\u001b[1;37m         ^\u001b[0m\n\u001b[1;31mSyntaxError\u001b[0m\u001b[1;31m:\u001b[0m invalid syntax\n"
     ]
    }
   ],
   "source": [
    "Tech with Tanishka \n",
    "012345"
   ]
  },
  {
   "cell_type": "code",
   "execution_count": 6,
   "metadata": {},
   "outputs": [
    {
     "output_type": "error",
     "ename": "TypeError",
     "evalue": "a bytes-like object is required, not 'str'",
     "traceback": [
      "\u001b[1;31m---------------------------------------------------------------------------\u001b[0m",
      "\u001b[1;31mTypeError\u001b[0m                                 Traceback (most recent call last)",
      "\u001b[1;32m<ipython-input-6-f3e5f64c84b5>\u001b[0m in \u001b[0;36m<module>\u001b[1;34m\u001b[0m\n\u001b[0;32m      2\u001b[0m \u001b[0mstr\u001b[0m \u001b[1;33m=\u001b[0m \u001b[1;34m'Dear'\u001b[0m\u001b[1;33m\u001b[0m\u001b[1;33m\u001b[0m\u001b[0m\n\u001b[0;32m      3\u001b[0m \u001b[1;32mwith\u001b[0m  \u001b[0mopen\u001b[0m\u001b[1;33m(\u001b[0m\u001b[1;34m'data.bin'\u001b[0m\u001b[1;33m,\u001b[0m\u001b[1;34m'wb'\u001b[0m\u001b[1;33m)\u001b[0m \u001b[1;32mas\u001b[0m \u001b[0mf\u001b[0m\u001b[1;33m:\u001b[0m\u001b[1;33m\u001b[0m\u001b[1;33m\u001b[0m\u001b[0m\n\u001b[1;32m----> 4\u001b[1;33m     \u001b[0mf\u001b[0m\u001b[1;33m.\u001b[0m\u001b[0mwrite\u001b[0m\u001b[1;33m(\u001b[0m\u001b[0mstr\u001b[0m\u001b[1;33m)\u001b[0m\u001b[1;33m\u001b[0m\u001b[1;33m\u001b[0m\u001b[0m\n\u001b[0m\u001b[0;32m      5\u001b[0m     \u001b[0mf\u001b[0m\u001b[1;33m.\u001b[0m\u001b[0mwrite\u001b[0m\u001b[1;33m(\u001b[0m\u001b[1;34m'Hello'\u001b[0m\u001b[1;33m)\u001b[0m\u001b[1;33m\u001b[0m\u001b[1;33m\u001b[0m\u001b[0m\n",
      "\u001b[1;31mTypeError\u001b[0m: a bytes-like object is required, not 'str'"
     ]
    }
   ],
   "source": [
    "#binary file handling in python\n",
    "str = 'Dear'\n",
    "with  open('data.bin','wb') as f:\n",
    "    f.write(str)\n",
    "    f.write('Hello')"
   ]
  },
  {
   "cell_type": "code",
   "execution_count": 8,
   "metadata": {},
   "outputs": [],
   "source": [
    "str = 'Dear'\n",
    "with  open('data.bin','wb') as f:\n",
    "    f.write(str.encode())\n",
    "    f.write(b'Hello')"
   ]
  },
  {
   "cell_type": "code",
   "execution_count": 10,
   "metadata": {},
   "outputs": [],
   "source": [
    "# a python program to create and storea a binary file\n",
    "# create cities file with cities name\n",
    "# take record size as 20 bytes\n",
    "rectlen = 20\n",
    "with open(\"cities.bin\", 'wb') as f:\n",
    "    n = int(input(\"How many entries\"))\n",
    "    for i in range(n):\n",
    "        city = input(\"Enter the name of city\")\n",
    "        ln = len(city)\n",
    "        # add spaces to make the length of city 20 bytes\n",
    "        city = city + (rectlen-ln)*' '\n",
    "        city = city.encode()\n",
    "        f.write((city))\n"
   ]
  },
  {
   "cell_type": "code",
   "execution_count": 11,
   "metadata": {},
   "outputs": [
    {
     "output_type": "stream",
     "name": "stdout",
     "text": [
      "delhi               \n"
     ]
    }
   ],
   "source": [
    "# a python program to randomly access recorded data\n",
    "\"\"\" The record len is 20 so we can just seek all elements after 20 bytes so that will be easy\"\"\"\n",
    "reclen = 20\n",
    "with open('cities.bin', 'rb') as f:\n",
    "    n = int(input(\"Enter record number\"))\n",
    "    f.seek(reclen * (n-1))\n",
    "    str = f.read(reclen)\n",
    "    print(str.decode())\n"
   ]
  },
  {
   "cell_type": "code",
   "execution_count": 17,
   "metadata": {},
   "outputs": [
    {
     "output_type": "stream",
     "name": "stdout",
     "text": [
      "Size of Cities.bin =  40\n",
      "Size of Record in cities.bin =  2\n",
      "Name found at index  2\n"
     ]
    }
   ],
   "source": [
    "# a python program search number of city based on city name\n",
    "import os\n",
    "reclen = 20\n",
    "size = os.path.getsize('cities.bin')\n",
    "print(\"Size of Cities.bin =  {}\".format(size))\n",
    "n = int(size/reclen)\n",
    "print(\"Size of Record in cities.bin =  {}\".format(n))\n",
    "with open('cities.bin', 'rb') as f:\n",
    "    name = input(\"Enter the bname of city \")\n",
    "    position = 0\n",
    "    found = False\n",
    "\n",
    "    for i in range(n):\n",
    "        f.seek(position)\n",
    "        str = f.read(20)\n",
    "        if name in str.decode():\n",
    "            print(\"Name found at index \", (i+1))\n",
    "            found = True\n",
    "        position += reclen\n",
    "    if not found:\n",
    "        print(\"City not found\")\n"
   ]
  },
  {
   "source": [
    "In order to update it do seek and then replace to content<br>\n",
    "In order to delete a record make 2 files and the search of file to remove else enter all names in new file"
   ],
   "cell_type": "markdown",
   "metadata": {}
  },
  {
   "cell_type": "code",
   "execution_count": null,
   "metadata": {},
   "outputs": [],
   "source": []
  }
 ]
}