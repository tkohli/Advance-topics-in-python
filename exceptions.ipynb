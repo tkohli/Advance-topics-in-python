{
 "metadata": {
  "language_info": {
   "codemirror_mode": {
    "name": "ipython",
    "version": 3
   },
   "file_extension": ".py",
   "mimetype": "text/x-python",
   "name": "python",
   "nbconvert_exporter": "python",
   "pygments_lexer": "ipython3",
   "version": "3.8.3"
  },
  "orig_nbformat": 2,
  "kernelspec": {
   "name": "python383jvsc74a57bd04959e9b4f25b4c95f653ccaa3475948476cdf1a2f205983bd1d37b42ba7c6753",
   "display_name": "Python 3.8.3 64-bit ('base': conda)"
  }
 },
 "nbformat": 4,
 "nbformat_minor": 2,
 "cells": [
  {
   "source": [
    "# Exception"
   ],
   "cell_type": "markdown",
   "metadata": {}
  },
  {
   "cell_type": "code",
   "execution_count": 2,
   "metadata": {},
   "outputs": [
    {
     "output_type": "error",
     "ename": "SyntaxError",
     "evalue": "invalid syntax (<ipython-input-2-c9dac6f67f6f>, line 2)",
     "traceback": [
      "\u001b[1;36m  File \u001b[1;32m\"<ipython-input-2-c9dac6f67f6f>\"\u001b[1;36m, line \u001b[1;32m2\u001b[0m\n\u001b[1;33m    if x == 1\u001b[0m\n\u001b[1;37m             ^\u001b[0m\n\u001b[1;31mSyntaxError\u001b[0m\u001b[1;31m:\u001b[0m invalid syntax\n"
     ]
    }
   ],
   "source": [
    "x = 1\n",
    "if x == 1\n",
    "    print(\"Where is colon\")"
   ]
  },
  {
   "source": [
    "logical error - error beacuse of humans"
   ],
   "cell_type": "markdown",
   "metadata": {}
  },
  {
   "cell_type": "code",
   "execution_count": 3,
   "metadata": {},
   "outputs": [
    {
     "output_type": "stream",
     "name": "stdout",
     "text": [
      "2700.0\n"
     ]
    }
   ],
   "source": [
    "\n",
    "def increment(sal):\n",
    "    sal = sal * 15/100\n",
    "    return sal\n",
    "\n",
    "sal = increment(18000)\n",
    "print(sal)"
   ]
  },
  {
   "cell_type": "code",
   "execution_count": 5,
   "metadata": {},
   "outputs": [
    {
     "output_type": "stream",
     "name": "stdout",
     "text": [
      "20700.0\n"
     ]
    }
   ],
   "source": [
    "\n",
    "def increment(sal):\n",
    "    sal = sal + sal * 15/100\n",
    "    return sal\n",
    "\n",
    "sal = increment(18000)\n",
    "print(sal)"
   ]
  },
  {
   "source": [
    "Exception is a runtime errorwhich can be handled by programmer <br>\n",
    "All exception are present in  a built in class \"BaseExpression\" and from the \"Exception\"<br>\n",
    "Exception handling"
   ],
   "cell_type": "markdown",
   "metadata": {}
  },
  {
   "cell_type": "code",
   "execution_count": 1,
   "metadata": {},
   "outputs": [
    {
     "output_type": "stream",
     "name": "stdout",
     "text": [
      "There is a division issue please check again. hint: you might me deviding a number by 0\n"
     ]
    }
   ],
   "source": [
    "try:\n",
    "    x = 1\n",
    "    y = 0\n",
    "    c = x/y\n",
    "except ZeroDivisionError:\n",
    "    print(\"There is a division issue please check again. hint: you might me deviding a number by 0\")\n",
    "else:\n",
    "    print(\"Hello\")"
   ]
  },
  {
   "cell_type": "code",
   "execution_count": 2,
   "metadata": {},
   "outputs": [
    {
     "output_type": "error",
     "ename": "SyntaxError",
     "evalue": "invalid syntax (<ipython-input-2-e46ad91fbdd2>, line 2)",
     "traceback": [
      "\u001b[1;36m  File \u001b[1;32m\"<ipython-input-2-e46ad91fbdd2>\"\u001b[1;36m, line \u001b[1;32m2\u001b[0m\n\u001b[1;33m    if i = 5:\u001b[0m\n\u001b[1;37m         ^\u001b[0m\n\u001b[1;31mSyntaxError\u001b[0m\u001b[1;31m:\u001b[0m invalid syntax\n"
     ]
    }
   ],
   "source": [
    "try:\n",
    "    if i = 5:\n",
    "        print(\"i is 5\")\n",
    "except SyntaxError:\n",
    "    print(\"There is a division issue please check again. hint: you might me deviding a number by 0\")\n",
    "else:\n",
    "    print(\"Hello\")"
   ]
  },
  {
   "cell_type": "code",
   "execution_count": 20,
   "metadata": {},
   "outputs": [
    {
     "output_type": "stream",
     "name": "stdout",
     "text": [
      "you cannot do that\n"
     ]
    }
   ],
   "source": [
    "try:\n",
    "    eval(\"i = 5:\")\n",
    "    print(\"i is 5\")\n",
    "except SyntaxError:\n",
    "    print(\"you cannot do that\")\n",
    "else:\n",
    "    print(\"Hello\")"
   ]
  },
  {
   "cell_type": "code",
   "execution_count": 11,
   "metadata": {},
   "outputs": [],
   "source": [
    "# Do read some types of error and provide thier catching way"
   ]
  },
  {
   "cell_type": "code",
   "execution_count": 19,
   "metadata": {},
   "outputs": [
    {
     "output_type": "stream",
     "name": "stdout",
     "text": [
      "i is 5\nHello\n"
     ]
    }
   ],
   "source": [
    "try:\n",
    "    i = 5\n",
    "    eval(\"i==5\")\n",
    "    if i == 5:\n",
    "        print(\"i is 5\")\n",
    "except SyntaxError:\n",
    "    print(\"you cannot do that\")\n",
    "\n",
    "else:\n",
    "    print(\"Hello\")"
   ]
  },
  {
   "cell_type": "code",
   "execution_count": 22,
   "metadata": {},
   "outputs": [
    {
     "output_type": "stream",
     "name": "stdout",
     "text": [
      "i is 5\nwill this block of code run\n"
     ]
    }
   ],
   "source": [
    "try:\n",
    "    i = 5\n",
    "    eval(\"i==5\")\n",
    "    if i == 5:\n",
    "        print(\"i is 5\")\n",
    "except SyntaxError:\n",
    "    print(\"you cannot do that\")\n",
    "finally:\n",
    "    print(\"will this block of code run\")"
   ]
  },
  {
   "cell_type": "code",
   "execution_count": 23,
   "metadata": {},
   "outputs": [
    {
     "output_type": "stream",
     "name": "stdout",
     "text": [
      "you cannot do that\nwill this block of code run\n"
     ]
    }
   ],
   "source": [
    "try:\n",
    "    i = 5\n",
    "    eval(\"i=5\")\n",
    "    if i == 5:\n",
    "        print(\"i is 5\")\n",
    "except SyntaxError:\n",
    "    print(\"you cannot do that\")\n",
    "finally:\n",
    "    print(\"will this block of code run\")"
   ]
  },
  {
   "source": [
    "The assert statement, check conditions that return True or false"
   ],
   "cell_type": "markdown",
   "metadata": {}
  },
  {
   "cell_type": "code",
   "execution_count": 30,
   "metadata": {},
   "outputs": [
    {
     "output_type": "error",
     "ename": "AssertionError",
     "evalue": "",
     "traceback": [
      "\u001b[1;31m---------------------------------------------------------------------------\u001b[0m",
      "\u001b[1;31mAssertionError\u001b[0m                            Traceback (most recent call last)",
      "\u001b[1;32m<ipython-input-30-56b203f5e75a>\u001b[0m in \u001b[0;36m<module>\u001b[1;34m\u001b[0m\n\u001b[0;32m      1\u001b[0m \u001b[0mx\u001b[0m \u001b[1;33m=\u001b[0m \u001b[0mint\u001b[0m\u001b[1;33m(\u001b[0m\u001b[0minput\u001b[0m\u001b[1;33m(\u001b[0m\u001b[1;34m\"Enter a number between 5 and 10\"\u001b[0m\u001b[1;33m)\u001b[0m\u001b[1;33m)\u001b[0m\u001b[1;33m\u001b[0m\u001b[1;33m\u001b[0m\u001b[0m\n\u001b[1;32m----> 2\u001b[1;33m \u001b[1;32massert\u001b[0m \u001b[0mx\u001b[0m\u001b[1;33m>=\u001b[0m\u001b[1;36m5\u001b[0m \u001b[1;32mand\u001b[0m \u001b[0mx\u001b[0m\u001b[1;33m<=\u001b[0m\u001b[1;36m10\u001b[0m\u001b[1;33m\u001b[0m\u001b[1;33m\u001b[0m\u001b[0m\n\u001b[0m\u001b[0;32m      3\u001b[0m \u001b[0mprint\u001b[0m\u001b[1;33m(\u001b[0m\u001b[1;34m\"The numbered entered is \"\u001b[0m\u001b[1;33m,\u001b[0m\u001b[0mx\u001b[0m\u001b[1;33m)\u001b[0m\u001b[1;33m\u001b[0m\u001b[1;33m\u001b[0m\u001b[0m\n",
      "\u001b[1;31mAssertionError\u001b[0m: "
     ]
    }
   ],
   "source": [
    "x = int(input(\"Enter a number between 5 and 10\"))\n",
    "assert x>=5 and x<=10\n",
    "print(\"The numbered entered is \",x)"
   ]
  },
  {
   "cell_type": "code",
   "execution_count": 31,
   "metadata": {},
   "outputs": [
    {
     "output_type": "stream",
     "name": "stdout",
     "text": [
      "condition mot satisfied\n"
     ]
    }
   ],
   "source": [
    "try:\n",
    "    x = int(input(\"Enter a number between 5 and 10\"))\n",
    "    assert x>=5 and x<=5\n",
    "    print(\"The numbered entered is \",x)\n",
    "except AssertionError:\n",
    "    print(\"condition mot satisfied\")"
   ]
  },
  {
   "cell_type": "code",
   "execution_count": 39,
   "metadata": {},
   "outputs": [
    {
     "output_type": "stream",
     "name": "stdout",
     "text": [
      "\n"
     ]
    }
   ],
   "source": [
    "try:\n",
    "    x = int(input(\"Enter a number between 5 and 10\"))\n",
    "    assert x>=5 and x<=5\n",
    "    print(\"The numbered entered is \",x)\n",
    "except AssertionError as obj:\n",
    "    print(obj)\n"
   ]
  },
  {
   "source": [
    "# user defined exceptions"
   ],
   "cell_type": "markdown",
   "metadata": {}
  },
  {
   "cell_type": "code",
   "execution_count": 43,
   "metadata": {},
   "outputs": [
    {
     "output_type": "stream",
     "name": "stdout",
     "text": [
      "The len of pin can only be six characters\n"
     ]
    }
   ],
   "source": [
    "class MyException(Exception):\n",
    "    def __init__(self,arg):\n",
    "        self.msg = arg\n",
    "    def check(pincode):\n",
    "        if len(pincode)!=6:\n",
    "            raise MyException(\"The len of pin can only be six characters\")\n",
    "    \n",
    "    pin = str(4820001)\n",
    "    try:\n",
    "        check(pin)\n",
    "    except MyException as me:\n",
    "        print(me)\n"
   ]
  },
  {
   "source": [
    "## logging the errors\n",
    "An error that crashes the app should have more priority then a warning so the system is given below<br>\n",
    "        Level\n",
    "        CRITICAL        50      SERIOUS HIGH ATTENTION\n",
    "        ERROR           40      SERIOUS \n",
    "        WARNING         30      WARNING AND CAUTION NEEDED \n",
    "        INFO            20      SOME INFORMATION \n",
    "        DEBUG           10      DEBUG INFO\n",
    "        NOTSET          0       "
   ],
   "cell_type": "markdown",
   "metadata": {}
  },
  {
   "cell_type": "code",
   "execution_count": 48,
   "metadata": {},
   "outputs": [],
   "source": [
    "import logging \n",
    "\n",
    "logging.basicConfig(filename=\"testlogs.txt\",level=logging.ERROR) # 40 or more\n",
    "logging.error(\"There is an error in the program\")\n",
    "logging.critical(\"There is a problem in the design\")\n",
    "\n",
    "#other will not be stored\n",
    "logging.warning(\"This program is slow\")\n",
    "logging.info(\"You are a junior programmer\")\n",
    "logging.debug(\"Some line has error\")"
   ]
  },
  {
   "cell_type": "code",
   "execution_count": 49,
   "metadata": {},
   "outputs": [],
   "source": [
    "try:\n",
    "    a = int(input(\"Enter first number: \"))\n",
    "    b = int(input(\"Enter second number: \"))\n",
    "    c = a/b\n",
    "except Exception as e:\n",
    "    logging.exception(e)\n",
    "else:\n",
    "    print(\"Output =\",c)"
   ]
  },
  {
   "cell_type": "code",
   "execution_count": null,
   "metadata": {},
   "outputs": [],
   "source": []
  }
 ]
}